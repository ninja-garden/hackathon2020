{
 "cells": [
  {
   "cell_type": "markdown",
   "metadata": {},
   "source": [
    "# На вход приходят координаты найденного объекта, после чего сравниваются с картами росреестра (есть ли объект на слое домов и построек)"
   ]
  },
  {
   "cell_type": "code",
   "execution_count": 3,
   "metadata": {},
   "outputs": [],
   "source": [
    "import cv2\n",
    "import numpy as np\n",
    "import pandas as pd\n",
    "\n",
    "import matplotlib.pyplot as plt\n",
    "\n",
    "from selenium import webdriver\n",
    "import time\n",
    "from tqdm import tqdm\n",
    "from selenium.common.exceptions import NoSuchElementException\n",
    "import warnings\n",
    "\n",
    "from PIL import Image\n",
    "from io import BytesIO\n",
    "warnings.filterwarnings('ignore')"
   ]
  },
  {
   "cell_type": "code",
   "execution_count": 27,
   "metadata": {},
   "outputs": [],
   "source": [
    "def tell_me_the_truth(driver, lon, lat):\n",
    "    url_m = 'https://pkk.rosreestr.ru/#/search/'+str(lat)+','+str(lon)+'/20/@fzn9ro91'\n",
    "    driver.get(url_m)\n",
    "    time.sleep(3)\n",
    "    scr = driver.get_screenshot_as_png()\n",
    "    scr = Image.open(BytesIO(scr))\n",
    "    scr = np.asarray(\n",
    "        scr,\n",
    "        dtype=np.float32\n",
    "    ).astype(np.uint8)\n",
    "    scr = cv2.cvtColor(scr, cv2.COLOR_BGR2RGB)\n",
    "    return bool((scr[int(scr.shape[0]/2), int(scr.shape[1]/2)] != [255, 255, 255]).prod())"
   ]
  },
  {
   "cell_type": "code",
   "execution_count": 5,
   "metadata": {},
   "outputs": [],
   "source": [
    "driver_path = 'C:/Users/Иван/Downloads/chromedriver_win32_new/chromedriver.exe'\n",
    "chrome_options = webdriver.ChromeOptions()\n",
    "chrome_options.add_argument('--headless')\n",
    "driver = webdriver.Chrome(driver_path, chrome_options=None)"
   ]
  },
  {
   "cell_type": "code",
   "execution_count": 28,
   "metadata": {},
   "outputs": [
    {
     "data": {
      "text/plain": [
       "True"
      ]
     },
     "execution_count": 28,
     "metadata": {},
     "output_type": "execute_result"
    }
   ],
   "source": [
    "tell_me_the_truth(driver, 55.02699264127596, 54.99769283460895)"
   ]
  },
  {
   "cell_type": "code",
   "execution_count": 29,
   "metadata": {},
   "outputs": [
    {
     "data": {
      "text/plain": [
       "False"
      ]
     },
     "execution_count": 29,
     "metadata": {},
     "output_type": "execute_result"
    }
   ],
   "source": [
    "tell_me_the_truth(driver, 54.99767975701283, 55.026343546693624)"
   ]
  },
  {
   "cell_type": "code",
   "execution_count": null,
   "metadata": {},
   "outputs": [],
   "source": []
  },
  {
   "cell_type": "code",
   "execution_count": null,
   "metadata": {},
   "outputs": [],
   "source": []
  },
  {
   "cell_type": "code",
   "execution_count": null,
   "metadata": {},
   "outputs": [],
   "source": []
  }
 ],
 "metadata": {
  "kernelspec": {
   "display_name": "Python 3",
   "language": "python",
   "name": "python3"
  },
  "language_info": {
   "codemirror_mode": {
    "name": "ipython",
    "version": 3
   },
   "file_extension": ".py",
   "mimetype": "text/x-python",
   "name": "python",
   "nbconvert_exporter": "python",
   "pygments_lexer": "ipython3",
   "version": "3.7.3"
  }
 },
 "nbformat": 4,
 "nbformat_minor": 2
}
