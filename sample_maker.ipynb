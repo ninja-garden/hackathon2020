{
 "cells": [
  {
   "cell_type": "code",
   "execution_count": 4,
   "metadata": {},
   "outputs": [],
   "source": [
    "import cv2\n",
    "import numpy as np\n",
    "import pandas as pd\n",
    "\n",
    "import matplotlib.pyplot as plt"
   ]
  },
  {
   "cell_type": "code",
   "execution_count": 49,
   "metadata": {},
   "outputs": [],
   "source": [
    "def new_box(box):\n",
    "    l_d = [box[:,0].min(), box[:,1].min()]\n",
    "    l_u = [box[:,0].min(), box[:,1].max()]\n",
    "    r_d = [box[:,0].max(), box[:,1].min()]\n",
    "    r_u = [box[:,0].max(), box[:,1].max()]\n",
    "    return np.array([l_d, l_u, r_u, r_d])\n",
    "def make_sample(img_name, img_m_name, new_name):\n",
    "    hsv_min = np.array((2, 0, 0), np.uint8)\n",
    "    hsv_max = np.array((255, 255, 255), np.uint8)\n",
    "    img = cv2.imread(img_name)\n",
    "    img_m = cv2.imread(img_m_name)\n",
    "    hsv = cv2.cvtColor( img_m, cv2.COLOR_BGR2HSV )\n",
    "    thresh = cv2.inRange( hsv, hsv_min, hsv_max )\n",
    "    contours0, hierarchy = cv2.findContours( thresh, cv2.RETR_TREE, cv2.CHAIN_APPROX_SIMPLE)\n",
    "    result = pd.DataFrame()\n",
    "    for cnt in contours0:\n",
    "        rect = cv2.minAreaRect(cnt)\n",
    "        box = cv2.boxPoints(rect)\n",
    "        box = np.int0(box)\n",
    "        n_box = new_box(box)\n",
    "        area = int(rect[1][0]*rect[1][1])\n",
    "        \n",
    "        if area > 200 and area < 300000:\n",
    "            cv2.drawContours(img,[n_box],0,(0,0,255),1)\n",
    "            result = result.append(pd.DataFrame({\n",
    "                'name':[new_name],\n",
    "                'left_d x':[n_box[0,0]],\n",
    "                'left_d y':[n_box[0,1]],\n",
    "                'right_u x':[n_box[2,0]],\n",
    "                'right_u y':[n_box[2,1]]\n",
    "            }))\n",
    "\n",
    "    return img, result\n",
    "def all_img(image_names):\n",
    "    result_log = pd.DataFrame()\n",
    "    for i in range(image_names.shape[0]):\n",
    "        img_name, img_m_name = image_names.iloc[i]['img name'], image_names.iloc[i]['img m name']\n",
    "        img, r = make_sample(img_name, img_m_name, 'IMG'+str(i)+'.jpg')\n",
    "        cv2.imwrite('IMG'+str(i)+'.jpg', img)\n",
    "        result_log = result_log.append(r)\n",
    "    result_log.set_index('name').to_csv('log.csv')\n",
    "def get_img_names(f, t):\n",
    "    result = pd.DataFrame()\n",
    "    for i in range(f, t + 1):\n",
    "        result = result.append(pd.DataFrame({\n",
    "            'img name':[str(i)+'_1.jpg'],\n",
    "            'img m name':[str(i)+'.jpg']\n",
    "        }))\n",
    "    return result"
   ]
  },
  {
   "cell_type": "code",
   "execution_count": 50,
   "metadata": {},
   "outputs": [],
   "source": [
    "names = get_img_names(1, 4)"
   ]
  },
  {
   "cell_type": "code",
   "execution_count": 51,
   "metadata": {},
   "outputs": [],
   "source": [
    "all_img(names)"
   ]
  },
  {
   "cell_type": "code",
   "execution_count": null,
   "metadata": {},
   "outputs": [],
   "source": []
  },
  {
   "cell_type": "code",
   "execution_count": null,
   "metadata": {},
   "outputs": [],
   "source": []
  },
  {
   "cell_type": "code",
   "execution_count": null,
   "metadata": {},
   "outputs": [],
   "source": []
  }
 ],
 "metadata": {
  "kernelspec": {
   "display_name": "Python 3",
   "language": "python",
   "name": "python3"
  },
  "language_info": {
   "codemirror_mode": {
    "name": "ipython",
    "version": 3
   },
   "file_extension": ".py",
   "mimetype": "text/x-python",
   "name": "python",
   "nbconvert_exporter": "python",
   "pygments_lexer": "ipython3",
   "version": "3.7.3"
  }
 },
 "nbformat": 4,
 "nbformat_minor": 2
}
