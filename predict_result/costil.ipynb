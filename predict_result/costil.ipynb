{
 "cells": [
  {
   "cell_type": "code",
   "execution_count": 1,
   "metadata": {},
   "outputs": [],
   "source": [
    "import cv2\n",
    "import numpy as np\n",
    "import matplotlib.pyplot as plt"
   ]
  },
  {
   "cell_type": "code",
   "execution_count": 20,
   "metadata": {},
   "outputs": [],
   "source": [
    "orig = cv2.imread('orig.jpg') #оригинаьная картинка с входа модели"
   ]
  },
  {
   "cell_type": "code",
   "execution_count": 24,
   "metadata": {},
   "outputs": [
    {
     "data": {
      "text/plain": [
       "True"
      ]
     },
     "execution_count": 24,
     "metadata": {},
     "output_type": "execute_result"
    }
   ],
   "source": [
    "hsv_min = np.array((0, 0, 0), np.uint8)\n",
    "hsv_max = np.array((1, 1, 1), np.uint8)\n",
    "\n",
    "if __name__ == '__main__':\n",
    "    fn = \"name.jpg\" # имя обработанного нейросетю файла\n",
    "    img = cv2.imread(fn)\n",
    "    hsv = cv2.cvtColor( img, cv2.COLOR_BGR2HSV )\n",
    "    thresh = cv2.inRange( hsv, hsv_min, hsv_max )\n",
    "    contours0, hierarchy = cv2.findContours( thresh, cv2.RETR_TREE, cv2.CHAIN_APPROX_SIMPLE)\n",
    "    \n",
    "    for cnt in contours0[1:]:\n",
    "        cv2.drawContours(orig,[cnt],0,(255,0,0),1)\n",
    "\n",
    "    #cv2.imshow('contours', img) # вывод обработанного кадра в окно\n",
    "\n",
    "    cv2.waitKey()\n",
    "    cv2.destroyAllWindows()\n",
    "cv2.imwrite('result.jpg', orig)"
   ]
  },
  {
   "cell_type": "code",
   "execution_count": null,
   "metadata": {},
   "outputs": [],
   "source": []
  },
  {
   "cell_type": "code",
   "execution_count": null,
   "metadata": {},
   "outputs": [],
   "source": []
  }
 ],
 "metadata": {
  "kernelspec": {
   "display_name": "Python 3",
   "language": "python",
   "name": "python3"
  },
  "language_info": {
   "codemirror_mode": {
    "name": "ipython",
    "version": 3
   },
   "file_extension": ".py",
   "mimetype": "text/x-python",
   "name": "python",
   "nbconvert_exporter": "python",
   "pygments_lexer": "ipython3",
   "version": "3.7.3"
  }
 },
 "nbformat": 4,
 "nbformat_minor": 2
}
